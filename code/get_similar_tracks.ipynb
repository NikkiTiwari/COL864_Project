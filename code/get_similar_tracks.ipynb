{
 "cells": [
  {
   "cell_type": "code",
   "execution_count": 4,
   "id": "a295da24-e74e-425c-8280-532e6517f06b",
   "metadata": {},
   "outputs": [],
   "source": [
    "import numpy as np\n",
    "import os\n",
    "import json\n",
    "import pandas as pd\n",
    "import time\n",
    "from tqdm import tqdm\n",
    "import gc\n",
    "import mmap\n",
    "from scipy import spatial\n",
    "import heapq\n",
    "import random\n",
    "import pickle as pk\n",
    "from itertools import count"
   ]
  },
  {
   "cell_type": "code",
   "execution_count": 5,
   "id": "c4a9d840-5d2b-43e6-b3e0-c3be752a2eee",
   "metadata": {},
   "outputs": [],
   "source": [
    "from Vocab_class import TermVocab\n",
    "from generate_vocab import create_vocab\n",
    "from src.show import show_playlist\n",
    "filenames = ['mpd.slice.102000-102999.json',\n",
    "             'mpd.slice.103000-103999.json',\n",
    "             'mpd.slice.104000-104999.json',\n",
    "             'mpd.slice.101000-101999.json',\n",
    "             'mpd.slice.10000-10999.json']"
   ]
  },
  {
   "cell_type": "code",
   "execution_count": 6,
   "id": "fc1dc56f-1698-4e04-bae5-1d08d33d0dff",
   "metadata": {
    "tags": []
   },
   "outputs": [
    {
     "data": {
      "text/plain": [
       "'\\n    Hyper parameter : \\n        top_k : select top_k best playlist based on similarity score and get their songs\\n'"
      ]
     },
     "execution_count": 6,
     "metadata": {},
     "output_type": "execute_result"
    }
   ],
   "source": [
    "'''\n",
    "    Hyper parameter : \n",
    "        top_k : select top_k best playlist based on similarity score and get their songs\n",
    "'''"
   ]
  },
  {
   "cell_type": "code",
   "execution_count": 7,
   "id": "d196e3db-d988-4a9c-b494-e87ea62255df",
   "metadata": {},
   "outputs": [
    {
     "name": "stdout",
     "output_type": "stream",
     "text": [
      "Creating Track Vocabulary\n"
     ]
    }
   ],
   "source": [
    "collection_dir = '/media/harsh/Common/IITD/COL764-IR/Project/spotify_million_playlist_dataset/data/'\n",
    "TVocab, idf = create_vocab(collection_dir)"
   ]
  },
  {
   "cell_type": "code",
   "execution_count": 8,
   "id": "92cb8fb1-b6f5-4e8f-85fc-5c2a8b252ed2",
   "metadata": {},
   "outputs": [
    {
     "data": {
      "text/plain": [
       "92296"
      ]
     },
     "execution_count": 8,
     "metadata": {},
     "output_type": "execute_result"
    }
   ],
   "source": [
    "TVocab.vocab_length"
   ]
  },
  {
   "cell_type": "code",
   "execution_count": 9,
   "id": "6e894ec1-93c7-4e7b-8285-608def19c2c7",
   "metadata": {},
   "outputs": [],
   "source": [
    "\n",
    "# dict1 = {}\n",
    "# dict1['harsh'] = 5\n",
    "# if 'harsh' not in dict1:\n",
    "#     print('present')"
   ]
  },
  {
   "cell_type": "code",
   "execution_count": 10,
   "id": "8bcb18b2-7199-41b8-91a5-93c91709c70c",
   "metadata": {},
   "outputs": [],
   "source": [
    "validation_pl = []\n",
    "def create_TDM(path, vocab:type(TermVocab()) = None, tdm_file = 'tdm_file.txt'):\n",
    "    \n",
    "    playlist_col = ['collaborative',  'pid', 'modified_at',  'num_tracks'\n",
    "                , 'num_albums','num_followers']\n",
    "    tracks_col = ['pos',  'artist_name','track_uri', 'artist_uri', \n",
    "                  'track_name','album_uri','duration_ms' ,'album_name'] \n",
    "    \n",
    "    filenames = sorted(os.listdir(path))\n",
    "    filenames = ['mpd.slice.102000-102999.json',\n",
    "                 'mpd.slice.103000-103999.json',\n",
    "                 'mpd.slice.104000-104999.json',\n",
    "                 'mpd.slice.101000-101999.json',\n",
    "                 'mpd.slice.10000-10999.json']\n",
    "    data_playlists = []\n",
    "    data_tracks = []\n",
    "    playlists = []\n",
    "\n",
    "    tracks = set()\n",
    "    validation_pl_upto = 200\n",
    "    total_time = 0\n",
    "    limit_file_read = 5\n",
    "    file_count =0\n",
    "    #print(filenames)\n",
    "    f = open(tdm_file, '+w')\n",
    "    f.close()\n",
    "    \n",
    "    print(\"Reading the dataset\")\n",
    "    for filename in filenames[:limit_file_read]:\n",
    "        start_time = time.time()  \n",
    "        fullpath = os.sep.join((path, filename))\n",
    "        f = open(fullpath)\n",
    "        js = f.read()\n",
    "        f.close()\n",
    "        file_count +=1 \n",
    "        # if file_count >  limit_file_read:\n",
    "        #     break\n",
    "        \n",
    "        mpd_slice = json.loads(js)\n",
    "        all_playlists = mpd_slice['playlists']\n",
    "        \n",
    "        # Making Validation set of PIDs\n",
    "        for playlist in all_playlists[:validation_pl_upto]:\n",
    "            if len(playlist['tracks']) > 10:\n",
    "                validation_pl.append(playlist['pid'])\n",
    "        \n",
    "        # Making Training set of PIDs\n",
    "        for playlist in all_playlists[validation_pl_upto: ]:\n",
    "            #print('pl:', playlist['name'], playlist['pid'])\n",
    "            #data_playlists.append([playlist[col] for col in playlist_col])\n",
    "            #playlist_vector = np.zeros(vocab.vocab_length)\n",
    "            # for track in playlist['tracks'][:]:\n",
    "            #     #print('track:', track['track_uri'])\n",
    "            #     #playlists.append([playlist['pid'], track['track_uri'], track['pos']])\n",
    "            #     playlist_vector[vocab.to_index(track['track_uri'])] = 1\n",
    "            #     # if track['track_uri'] not in tracks:\n",
    "            #     #     data_tracks.append([track[col] for col in tracks_col])\n",
    "            #     #     tracks.add(track['track_uri'])\n",
    "            \n",
    "            with open(tdm_file,'+a') as tdm_f:\n",
    "                #print('Writing to file')\n",
    "                #tdm_f.write(' '.join(map(str,playlist_vector))+'\\n')  #Taking way too much space and time\n",
    "                tdm_f.write(str(playlist['pid'])+' ')\n",
    "        print('for file       :',filename)\n",
    "        print('total playlists:', len(all_playlists))\n",
    "        duration = time.time() - start_time\n",
    "        total_time += duration\n",
    "    with open('validation_pids_1.txt','+w') as f:\n",
    "        for pid in validation_pl:\n",
    "            f.write(str(pid) + ' ')\n",
    "    print('total time taken', total_time)\n",
    "    return True\n"
   ]
  },
  {
   "cell_type": "code",
   "execution_count": 11,
   "id": "5acf173e-bb34-4700-9b0d-71a1937ef88d",
   "metadata": {},
   "outputs": [
    {
     "name": "stdout",
     "output_type": "stream",
     "text": [
      "Reading the dataset\n",
      "for file       : mpd.slice.102000-102999.json\n",
      "total playlists: 1000\n",
      "for file       : mpd.slice.103000-103999.json\n",
      "total playlists: 1000\n",
      "for file       : mpd.slice.104000-104999.json\n",
      "total playlists: 1000\n",
      "for file       : mpd.slice.101000-101999.json\n",
      "total playlists: 1000\n",
      "for file       : mpd.slice.10000-10999.json\n",
      "total playlists: 1000\n",
      "total time taken 0.890303373336792\n"
     ]
    },
    {
     "data": {
      "text/plain": [
       "True"
      ]
     },
     "execution_count": 11,
     "metadata": {},
     "output_type": "execute_result"
    }
   ],
   "source": [
    "create_TDM(collection_dir,TVocab)"
   ]
  },
  {
   "cell_type": "code",
   "execution_count": 12,
   "id": "e0af9e7d-4401-4428-bbd1-d5c0dab7962d",
   "metadata": {},
   "outputs": [
    {
     "name": "stdout",
     "output_type": "stream",
     "text": [
      "950\n"
     ]
    }
   ],
   "source": [
    "print(len(validation_pl))"
   ]
  },
  {
   "cell_type": "code",
   "execution_count": 29,
   "id": "2310fc0d-41b9-4fc5-baba-ee018c8f6399",
   "metadata": {
    "tags": []
   },
   "outputs": [],
   "source": [
    "class SimilarTraks:\n",
    "    def __init__(self, TVocab: type(TermVocab()), idf, collection_dir, tdm_path= 'tdm_file.txt', top_k = 20, pca_file = 'pca_model_5_70.txt', apply_pca= False):\n",
    "        self.vocab = TVocab\n",
    "        self.idf = idf\n",
    "        if self.vocab == None:\n",
    "            self.vocab, self.idf = create_vocab(collection_dir)\n",
    "            \n",
    "        self.top_k = top_k\n",
    "        self.tdm_path = tdm_path\n",
    "        self.collection_dir = collection_dir\n",
    "        self.pca_model = pk.load(open(pca_file, 'rb'))\n",
    "        self.tiebreaker = count()\n",
    "        self.apply_pca = apply_pca\n",
    "        return None\n",
    "    \n",
    "    def sim(self, v1, v2):\n",
    "        return 1 - spatial.distance.cosine(v1, v2)\n",
    "    \n",
    "    def get_similar_pl(self, p_q):\n",
    "        heap_tracks = []\n",
    "        heapq.heapify(heap_tracks)\n",
    "        pids = []\n",
    "        with open(self.tdm_path, 'r') as tdm_file:\n",
    "            #print('reading lines')\n",
    "            pids = tdm_file.read().split()\n",
    "            pids = [int(pid) for pid in pids]\n",
    "        #print(len(pids))\n",
    "        #print(pids[0], type(pids[0]))\n",
    "        for pid in pids:\n",
    "            pi = self.get_playlist_vector(pid, apply_pca= self.apply_pca)\n",
    "            #pi = [float(x) for x in pi]\n",
    "            if len(pi) <= 1:\n",
    "                break\n",
    "            #print(pi)\n",
    "            sim = 0\n",
    "            if np.sum(pi) != 0 and np.sum(p_q) != 0:\n",
    "                sim = self.sim(pi, p_q)\n",
    "            if sim >0:\n",
    "                #print('pushing element into heap:',sim)\n",
    "                heapq.heappush(heap_tracks, [sim,[pid, pi]])\n",
    "            if len(heap_tracks) > self.top_k:\n",
    "                #print('removing the element from heap')\n",
    "                #print('heap tracks',heap_tracks[0])\n",
    "                #print('heap track[0]',len(heap_tracks[0]))\n",
    "                #print('len of heap', len(heap_tracks))\n",
    "                pop_val = heapq.heappop(heap_tracks)\n",
    "                #print(pop_val)\n",
    "        return heap_tracks\n",
    "    \n",
    "    def get_songs_for_p(self, pid, select_subset_of = None):\n",
    "        p_q = self.get_playlist_vector(pid, select_subset_of, apply_pca = self.apply_pca)\n",
    "        sim_ps = self.get_similar_pl(p_q)\n",
    "        print('Total similar playlists',len(sim_ps))\n",
    "        tracks = []\n",
    "        #print(sim_ps)\n",
    "        for p in sim_ps: # p [sim, pl_vector]\n",
    "            index = 0\n",
    "            pid = p[1][0]\n",
    "            p_vec = self.get_playlist_vector(pid, select_subset_of=None, apply_pca=False)\n",
    "            non_zeros = np.nonzero(p_vec)[0]\n",
    "            # non_zeros = np.nonzero(p[1][1])[0]\n",
    "            #print('non zeros:', non_zeros)\n",
    "            for i in non_zeros:\n",
    "                tracks.append(self.vocab.to_track(i))\n",
    "        #tracks = set(tracks)\n",
    "        print('total tracks:', len(tracks))\n",
    "        return tracks\n",
    "    \n",
    "    def get_playlist_vector(self, pid, select_subset_of = None, apply_pca = False):\n",
    "        playlist = show_playlist(self.collection_dir, pid, print_op = False)\n",
    "        p_vec = np.zeros(self.vocab.vocab_length)\n",
    "        if playlist is None:\n",
    "            p_vec_red = p_vec\n",
    "            if apply_pca:\n",
    "                [p_vec_red] = self.pca_model.transform([p_vec])\n",
    "            #print('printing zero vec', p_vec)\n",
    "            #print('len of zero vec', len(p_vec))\n",
    "            return p_vec_red\n",
    "        \n",
    "        #print('retrieved pl size:',len(playlist))\n",
    "        #print('for playlist:', playlist['name'], playlist['pid'])\n",
    "        selected_tracks = playlist['tracks']\n",
    "        if select_subset_of != None and select_subset_of < len(selected_tracks):\n",
    "            #print('pid', playlist['pid'])\n",
    "            #print('len of tracks',len(selected_tracks))\n",
    "            random.seed(0)\n",
    "            selected_tracks = random.sample(selected_tracks, select_subset_of)\n",
    "            #print('len of subset of tracks',len(selected_tracks))\n",
    "        \n",
    "        for track in selected_tracks:\n",
    "            if track['track_uri'] in self.vocab.track2index and track['track_uri'] in self.idf:\n",
    "                indx = self.vocab.to_index(track['track_uri'])\n",
    "                p_vec[indx] = 1*self.idf[track['track_uri']]\n",
    "        p_vec_red = p_vec\n",
    "        if apply_pca:\n",
    "            [p_vec_red] = self.pca_model.transform([p_vec])\n",
    "        #print('pl length', len(p_vec_red))\n",
    "        return p_vec_red\n",
    "    "
   ]
  },
  {
   "cell_type": "code",
   "execution_count": 30,
   "id": "a9d0eb21-7dc7-4bb7-a817-f33f7b05a5d2",
   "metadata": {},
   "outputs": [],
   "source": [
    "#sim_track = SimilarTraks(TVocab, idf, collection_dir, top_k=50, apply_pca=True)"
   ]
  },
  {
   "cell_type": "code",
   "execution_count": 31,
   "id": "cfde21f1-0518-4dcc-8c64-edc327e59105",
   "metadata": {
    "tags": []
   },
   "outputs": [
    {
     "name": "stdout",
     "output_type": "stream",
     "text": [
      "Total similar playlists 50\n",
      "total tracks: 589\n"
     ]
    }
   ],
   "source": [
    "#rec =sim_track.get_songs_for_p(324001, 10)"
   ]
  },
  {
   "cell_type": "code",
   "execution_count": 32,
   "id": "60a10292-faed-4c59-995d-9a9d6d2e2d94",
   "metadata": {},
   "outputs": [
    {
     "name": "stdout",
     "output_type": "stream",
     "text": [
      "Total similar playlists 50\n",
      "total tracks: 2457\n"
     ]
    }
   ],
   "source": [
    "#_ = sim_track.get_songs_for_p(324261)"
   ]
  },
  {
   "cell_type": "code",
   "execution_count": null,
   "id": "9a3cbfbc-cc28-4080-8d6d-d046946130e7",
   "metadata": {},
   "outputs": [],
   "source": [
    "# pids = [1,2,3,4]\n",
    "# x = []\n",
    "# for pid in pids:\n",
    "#     #get the vector of pid\n",
    "#     p_vec = get_big_vector(pid)\n",
    "#     x.append(p_vec)\n",
    "# pca1.fit(x)"
   ]
  },
  {
   "cell_type": "code",
   "execution_count": null,
   "id": "c94d1199-fd55-471b-8914-81415c4b6883",
   "metadata": {},
   "outputs": [],
   "source": []
  }
 ],
 "metadata": {
  "kernelspec": {
   "display_name": "Python 3 (ipykernel)",
   "language": "python",
   "name": "python3"
  },
  "language_info": {
   "codemirror_mode": {
    "name": "ipython",
    "version": 3
   },
   "file_extension": ".py",
   "mimetype": "text/x-python",
   "name": "python",
   "nbconvert_exporter": "python",
   "pygments_lexer": "ipython3",
   "version": "3.8.8"
  }
 },
 "nbformat": 4,
 "nbformat_minor": 5
}
