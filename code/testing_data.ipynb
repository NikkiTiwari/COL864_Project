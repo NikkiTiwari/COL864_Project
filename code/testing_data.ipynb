{
 "cells": [
  {
   "cell_type": "code",
   "execution_count": 1,
   "id": "d729e46b-fa0c-4b8c-83e4-9c3b5aea5999",
   "metadata": {},
   "outputs": [],
   "source": [
    "import pandas as pd\n",
    "import numpy as np\n",
    "import matplotlib.pyplot as plt\n",
    "import json"
   ]
  },
  {
   "cell_type": "code",
   "execution_count": 2,
   "id": "53442066-f004-42a5-a655-ec3043510624",
   "metadata": {
    "tags": []
   },
   "outputs": [
    {
     "ename": "FileNotFoundError",
     "evalue": "[Errno 2] No such file or directory: '../spotify_million_playlist_dataset_challenge/challenge_set.json'",
     "output_type": "error",
     "traceback": [
      "\u001b[0;31m---------------------------------------------------------------------------\u001b[0m",
      "\u001b[0;31mFileNotFoundError\u001b[0m                         Traceback (most recent call last)",
      "\u001b[0;32m/tmp/ipykernel_20641/1864040893.py\u001b[0m in \u001b[0;36m<module>\u001b[0;34m\u001b[0m\n\u001b[1;32m      2\u001b[0m \u001b[0mdata_path\u001b[0m \u001b[0;34m=\u001b[0m \u001b[0;34m'../spotify_million_playlist_dataset_challenge/challenge_set.json'\u001b[0m\u001b[0;34m\u001b[0m\u001b[0;34m\u001b[0m\u001b[0m\n\u001b[1;32m      3\u001b[0m \u001b[0mdata\u001b[0m \u001b[0;34m=\u001b[0m \u001b[0;32mNone\u001b[0m\u001b[0;34m\u001b[0m\u001b[0;34m\u001b[0m\u001b[0m\n\u001b[0;32m----> 4\u001b[0;31m \u001b[0;32mwith\u001b[0m \u001b[0mopen\u001b[0m\u001b[0;34m(\u001b[0m\u001b[0mdata_path\u001b[0m\u001b[0;34m,\u001b[0m \u001b[0;34m'r'\u001b[0m\u001b[0;34m)\u001b[0m \u001b[0;32mas\u001b[0m \u001b[0mfile\u001b[0m\u001b[0;34m:\u001b[0m\u001b[0;34m\u001b[0m\u001b[0;34m\u001b[0m\u001b[0m\n\u001b[0m\u001b[1;32m      5\u001b[0m     \u001b[0mdata\u001b[0m \u001b[0;34m=\u001b[0m \u001b[0mjson\u001b[0m\u001b[0;34m.\u001b[0m\u001b[0mload\u001b[0m\u001b[0;34m(\u001b[0m\u001b[0mfile\u001b[0m\u001b[0;34m)\u001b[0m\u001b[0;34m\u001b[0m\u001b[0;34m\u001b[0m\u001b[0m\n\u001b[1;32m      6\u001b[0m     \u001b[0mdata\u001b[0m \u001b[0;34m=\u001b[0m \u001b[0mpd\u001b[0m\u001b[0;34m.\u001b[0m\u001b[0mDataFrame\u001b[0m\u001b[0;34m(\u001b[0m\u001b[0mdata\u001b[0m\u001b[0;34m[\u001b[0m\u001b[0;34m'playlists'\u001b[0m\u001b[0;34m]\u001b[0m\u001b[0;34m)\u001b[0m\u001b[0;34m\u001b[0m\u001b[0;34m\u001b[0m\u001b[0m\n",
      "\u001b[0;31mFileNotFoundError\u001b[0m: [Errno 2] No such file or directory: '../spotify_million_playlist_dataset_challenge/challenge_set.json'"
     ]
    }
   ],
   "source": [
    "# data = pd.read_json('../../spotify_million_playlist_dataset_challenge/challenge_set.json')\n",
    "data_path = '/media/harsh/Common/IITD/COL764-IR/Project/spotify_million_playlist_dataset/'\n",
    "data = None\n",
    "with open(data_path, 'r') as file:\n",
    "    data = json.load(file)\n",
    "    data = pd.DataFrame(data['playlists'])\n",
    "data"
   ]
  },
  {
   "cell_type": "code",
   "execution_count": 4,
   "id": "90d2f5ca-a2ea-4d2e-8965-7a9dbb1ce6a2",
   "metadata": {},
   "outputs": [
    {
     "ename": "TypeError",
     "evalue": "'NoneType' object is not subscriptable",
     "output_type": "error",
     "traceback": [
      "\u001b[0;31m---------------------------------------------------------------------------\u001b[0m",
      "\u001b[0;31mTypeError\u001b[0m                                 Traceback (most recent call last)",
      "\u001b[0;32m/tmp/ipykernel_20641/3783873579.py\u001b[0m in \u001b[0;36m<module>\u001b[0;34m\u001b[0m\n\u001b[0;32m----> 1\u001b[0;31m \u001b[0mtracks\u001b[0m \u001b[0;34m=\u001b[0m \u001b[0mdata\u001b[0m\u001b[0;34m[\u001b[0m\u001b[0;34m'tracks'\u001b[0m\u001b[0;34m]\u001b[0m\u001b[0;34m\u001b[0m\u001b[0;34m\u001b[0m\u001b[0m\n\u001b[0m",
      "\u001b[0;31mTypeError\u001b[0m: 'NoneType' object is not subscriptable"
     ]
    }
   ],
   "source": [
    "tracks = data['tracks']"
   ]
  },
  {
   "cell_type": "code",
   "execution_count": 5,
   "id": "9c01bde6-1531-4653-9807-29adccfe5f6e",
   "metadata": {},
   "outputs": [
    {
     "ename": "NameError",
     "evalue": "name 'tracks' is not defined",
     "output_type": "error",
     "traceback": [
      "\u001b[0;31m---------------------------------------------------------------------------\u001b[0m",
      "\u001b[0;31mNameError\u001b[0m                                 Traceback (most recent call last)",
      "\u001b[0;32m/tmp/ipykernel_20641/2345445780.py\u001b[0m in \u001b[0;36m<module>\u001b[0;34m\u001b[0m\n\u001b[0;32m----> 1\u001b[0;31m \u001b[0mlast_track\u001b[0m \u001b[0;34m=\u001b[0m \u001b[0mtracks\u001b[0m\u001b[0;34m.\u001b[0m\u001b[0mvalues\u001b[0m\u001b[0;34m[\u001b[0m\u001b[0;34m-\u001b[0m\u001b[0;36m1\u001b[0m\u001b[0;34m]\u001b[0m\u001b[0;34m\u001b[0m\u001b[0;34m\u001b[0m\u001b[0m\n\u001b[0m",
      "\u001b[0;31mNameError\u001b[0m: name 'tracks' is not defined"
     ]
    }
   ],
   "source": [
    "last_track = tracks.values[-1]"
   ]
  },
  {
   "cell_type": "code",
   "execution_count": 6,
   "id": "543dc489-d108-49ae-a40b-e633eb2c4fdf",
   "metadata": {},
   "outputs": [
    {
     "ename": "NameError",
     "evalue": "name 'last_track' is not defined",
     "output_type": "error",
     "traceback": [
      "\u001b[0;31m---------------------------------------------------------------------------\u001b[0m",
      "\u001b[0;31mNameError\u001b[0m                                 Traceback (most recent call last)",
      "\u001b[0;32m/tmp/ipykernel_20641/1940966277.py\u001b[0m in \u001b[0;36m<module>\u001b[0;34m\u001b[0m\n\u001b[0;32m----> 1\u001b[0;31m \u001b[0mlast_track\u001b[0m\u001b[0;34m[\u001b[0m\u001b[0;36m0\u001b[0m\u001b[0;34m]\u001b[0m\u001b[0;34m\u001b[0m\u001b[0;34m\u001b[0m\u001b[0m\n\u001b[0m",
      "\u001b[0;31mNameError\u001b[0m: name 'last_track' is not defined"
     ]
    }
   ],
   "source": [
    "last_track[0]"
   ]
  },
  {
   "cell_type": "markdown",
   "id": "cae3d6e0-4e06-45b2-b996-b81ae2da3e45",
   "metadata": {},
   "source": [
    "### We could try to group similar tracks together and then make the playlist vector using these groups of tabs (like percentage of tranks present of these groups) and then try to follow a similar approach\n",
    "#### But is there a way to mathematically show that this will increase the accuracy? (don't think so)"
   ]
  },
  {
   "cell_type": "markdown",
   "id": "3916692d-eb0c-4393-a3d7-e5fc2b70722c",
   "metadata": {},
   "source": []
  },
  {
   "cell_type": "raw",
   "id": "4665519a-fc9d-4f32-89fb-b900196aada0",
   "metadata": {},
   "source": [
    "playlist_i = [track_1, track_2, track_3, ..... trankN]\n",
    "\n",
    "playlist_i = [gp_track_1, gp_track_2, gp_track_3, ..... trankN]\n",
    "\n",
    "term = [ doc1, doc2, ....   docN]\n",
    "\n",
    "track_i = [word_1, word_2, ........ ]\n",
    "\n",
    "cosine_sim((track_i, track_2)* (no_common playlist))\n",
    "\n",
    "        tracks1, track2,  .................\n",
    "track1\n",
    "track2\n",
    ".\n",
    ".\n",
    ".\n",
    "\n",
    "P_y = [tracks....]\n",
    "\n",
    "user_i = [track_1, track_2, ..... track_N]\n",
    "user_j = [track_1, track_2, ..... track_N]\n",
    "\n",
    "\n",
    "s1*s2      0.7*s2(i,j)           .1\n",
    "010000000      10            .5\n",
    "001000000      1              0\n",
    "\n",
    "\n"
   ]
  },
  {
   "cell_type": "code",
   "execution_count": 8,
   "id": "014bb8dd-6fe4-4307-8de0-bd20f426fc00",
   "metadata": {},
   "outputs": [],
   "source": [
    "data_path = '/media/harsh/Common/IITD/COL764-IR/Project/spotify_million_playlist_dataset/data/'"
   ]
  },
  {
   "cell_type": "code",
   "execution_count": null,
   "id": "96570fb2-3402-46bf-9217-994c2033cc5b",
   "metadata": {},
   "outputs": [],
   "source": []
  }
 ],
 "metadata": {
  "kernelspec": {
   "display_name": "Python 3 (ipykernel)",
   "language": "python",
   "name": "python3"
  },
  "language_info": {
   "codemirror_mode": {
    "name": "ipython",
    "version": 3
   },
   "file_extension": ".py",
   "mimetype": "text/x-python",
   "name": "python",
   "nbconvert_exporter": "python",
   "pygments_lexer": "ipython3",
   "version": "3.8.8"
  }
 },
 "nbformat": 4,
 "nbformat_minor": 5
}
