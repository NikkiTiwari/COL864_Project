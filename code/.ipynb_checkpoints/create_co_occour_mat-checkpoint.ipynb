{
 "cells": [
  {
   "cell_type": "code",
   "execution_count": 3,
   "id": "56b13add-2a63-4833-9669-ae422fcb703c",
   "metadata": {},
   "outputs": [],
   "source": [
    "# import torch\n",
    "# import torch.nn as nn\n",
    "# import torch.nn.functional as F\n",
    "# import torch.optim as optim\n",
    "# import torchvision\n",
    "# from torch.utils.data import Dataset, DataLoader\n",
    "# from torchvision import transforms, utils\n",
    "import numpy as np\n",
    "import pandas as pd\n",
    "import mmap\n",
    "import os\n",
    "import json\n",
    "import struct\n",
    "import datetime"
   ]
  },
  {
   "cell_type": "markdown",
   "id": "0ac719d7-b790-4adf-bbed-3cb4491c7897",
   "metadata": {},
   "source": [
    "### Own imports"
   ]
  },
  {
   "cell_type": "code",
   "execution_count": 4,
   "id": "2edc6910-d5cd-4c8e-82c0-07faac98a51a",
   "metadata": {},
   "outputs": [],
   "source": [
    "from Vocab_class import TermVocab\n",
    "from generate_vocab import create_vocab\n",
    "\n",
    "collection_dir = '/media/harsh/Common/IITD/COL764-IR/Project/spotify_million_playlist_dataset/data/'"
   ]
  },
  {
   "cell_type": "code",
   "execution_count": 5,
   "id": "ec8cace0-f0a0-4ad9-a23d-d5250e6e7f7b",
   "metadata": {},
   "outputs": [
    {
     "name": "stdout",
     "output_type": "stream",
     "text": [
      "Creating Track Vocabulary\n"
     ]
    }
   ],
   "source": [
    "# def create_vocab(coll_dir, TVocab :type(TermVocab()) = TermVocab()):\n",
    "#     limit_file_read_to = 1\n",
    "    \n",
    "#     print('Creating Track Vocabulary')\n",
    "#     file_count = 0\n",
    "#     for filename in os.listdir(coll_dir):\n",
    "#         file_count += 1\n",
    "#         #print('For File:', filename)\n",
    "#         with open(os.path.join(coll_dir, filename), 'r') as f:\n",
    "#             mm = mmap.mmap(f.fileno(),length = 0, access = mmap.ACCESS_READ)\n",
    "#             playlists = json.load(mm)['playlists']\n",
    "#             # print('total playlists:', len(playlists))\n",
    "#             for playlist in playlists[:4]:\n",
    "#                 tracks = playlist['tracks']\n",
    "#                 #print('pl:', playlist['pid'])\n",
    "#                 # print('\\tTotal Tracks:', len(tracks))\n",
    "#                 for track in tracks[:3]:\n",
    "#                     TVocab.add_track(track['track_uri'])\n",
    "#                     # print('\\tPOS :',track['pos'])\n",
    "#                     # print('\\tName: ',track['track_name'])\n",
    "#                     # print('\\tURI : ',track['track_uri'])\n",
    "#             mm.close()\n",
    "#         if file_count >= limit_file_read_to:\n",
    "#             break\n",
    "#     return TVocab\n",
    "\n",
    "TVocab, idf = create_vocab(collection_dir)"
   ]
  },
  {
   "cell_type": "code",
   "execution_count": 6,
   "id": "e6f55b72-6e7f-4b6b-882f-854dd0cdb2b5",
   "metadata": {
    "tags": []
   },
   "outputs": [
    {
     "data": {
      "text/plain": [
       "29386"
      ]
     },
     "execution_count": 6,
     "metadata": {},
     "output_type": "execute_result"
    }
   ],
   "source": [
    "len(TVocab.track2index)"
   ]
  },
  {
   "cell_type": "code",
   "execution_count": 7,
   "id": "779cf68f-d7a2-455f-8302-5d2e14b1a189",
   "metadata": {},
   "outputs": [],
   "source": [
    "## Saving cells of matrix as float so 1 float value takes 4 bytes\n",
    "class CoOcc:\n",
    "    def __init__(self, collection_dir, TVocab:type(TermVocab()) = None,idf = None, prior = 0.0, co_occour_file = 'hpc_results/co_occ_file_5.txt'):\n",
    "        #Consider top 200 as test and rest playlist as train\n",
    "        self.validation_pl_upto = 200\n",
    "        self.limit_file_read_to = 5\n",
    "        self.coll_dir = collection_dir\n",
    "        self.TVocab = TVocab\n",
    "        self.idf = idf\n",
    "        if TVocab is None:\n",
    "            self.TVocab, self.idf = create_vocab(collection_dir)\n",
    "        self.prior = prior\n",
    "        self.co_occour_file = co_occour_file\n",
    "        self.cell_size = 4  #size of i cell of matrix in bytes(float = 4 bytes)\n",
    "    \n",
    "    def f_t_b_arr(self, val):\n",
    "        return bytearray(struct.pack('f', val))\n",
    "    def b_arr_t_f(self, arr):\n",
    "        return struct.unpack('f', arr)[0]\n",
    "    \n",
    "    def fill_default_values(self):\n",
    "        t1 = datetime.datetime.now()\n",
    "        print('writing initial values')\n",
    "        n = self.TVocab.vocab_length\n",
    "        c = self.prior\n",
    "        cont_len = int(n*(n+1)/2)\n",
    "        print('conte length      :',cont_len)\n",
    "        content_float_arr = [c]*cont_len\n",
    "        content_byte_arr = self.f_t_b_arr(content_float_arr[0])\n",
    "        # for i in range(1, cont_len):\n",
    "        #     content_byte_arr.extend(self.f_t_b_arr(content_float_arr[i]))\n",
    "        #print('Conetnt byte arrat:',content_byte_arr)\n",
    "        #print('byte array len    :', len(content_byte_arr))\n",
    "        #print('for file          :', self.co_occour_file)\n",
    "        \n",
    "        ## OLD CODE:\n",
    "        # f = open(self.co_occour_file, 'wb')\n",
    "        # f.write((cont_len*4)*b'\\0')\n",
    "        # f.close()\n",
    "        \n",
    "        ##MODIFIED:\n",
    "        with open(self.co_occour_file, '+wb') as f:\n",
    "            for i in range(cont_len):\n",
    "                f.write(4*b'\\0')\n",
    "        \n",
    "        # with open(self.co_occour_file, 'r+b') as file:\n",
    "        #     mm = mmap.mmap(file.fileno(),length = 0, access = mmap.ACCESS_WRITE)\n",
    "        #     mm.write(content_byte_arr)\n",
    "        #     mm.close()\n",
    "        print('Initialization done for %s'%(self.co_occour_file))\n",
    "        t2 = datetime.datetime.now()\n",
    "        print('time taken', t2-t1)\n",
    "        return True\n",
    "    \n",
    "    #Not Needed Now\n",
    "    def read_co_occour_file(self):\n",
    "        contents_array = []\n",
    "        with open(self.co_occour_file, 'r') as file:\n",
    "            mm = mmap.mmap(file.fileno(), length = 0, access = mmap.ACCESS_READ)\n",
    "            content = mm.read()\n",
    "            print('Content', content)\n",
    "            print('f vals')\n",
    "            for i in range(0, len(content), 4):\n",
    "                f_val = self.b_arr_t_f(content[i:i+4])\n",
    "                print(f_val, end=' ')\n",
    "                contents_array.append(f_val)\n",
    "            mm.close()\n",
    "        return contents_array\n",
    "    \n",
    "    def get_file_position(self,track_i, track_j):\n",
    "        i_tem = self.TVocab.to_index(track_i)\n",
    "        j_tem = self.TVocab.to_index(track_j)\n",
    "        #print(i_tem, track_i)\n",
    "        #print(j_tem, track_j)\n",
    "        if i_tem == -1 or j_tem == -1:\n",
    "            #print('can\\'t get pos for %s, %s in file, not present in vocab'%(track_i, track_j))\n",
    "            return -1\n",
    "        i, j = min(i_tem, j_tem), max(i_tem, j_tem)\n",
    "        pos_i = i*self.TVocab.vocab_length - i*(i-1)/2\n",
    "        pos = int(pos_i + j-i) * self.cell_size\n",
    "        return pos\n",
    "    \n",
    "    def get_sim_track_ij(self, track_i = None, track_j = None):\n",
    "        val = 0\n",
    "        pos = self.get_file_position(track_i, track_j)\n",
    "        if pos == -1:\n",
    "            return 0\n",
    "        #print('pos', pos)\n",
    "        with open(self.co_occour_file,'r+b') as file:\n",
    "            with mmap.mmap(file.fileno(), 0) as mm:\n",
    "                #print('val before :',self.b_arr_t_f(mm[pos:pos+4]))\n",
    "                val = self.b_arr_t_f(mm[pos:pos + 4])\n",
    "                #print('val',val)\n",
    "        return val\n",
    "    \n",
    "    def set_track_ij(self, track_i = None, track_j = None, val = 5.1):\n",
    "        pos = self.get_file_position(track_i, track_j)\n",
    "        if pos == -1:\n",
    "            return False\n",
    "        #print('pos',pos)\n",
    "        with open(self.co_occour_file,'r+b') as file:\n",
    "            with mmap.mmap(file.fileno(), 0) as mm:\n",
    "                f_val = self.f_t_b_arr(val)\n",
    "                #print('val before:',self.b_arr_t_f(mm[pos:pos + 4]))\n",
    "                mm[pos:pos + 4] = f_val\n",
    "                #print('val after :',self.b_arr_t_f(mm[pos:pos + 4]))\n",
    "        return True\n",
    "    \n",
    "    def set_pos(self, mm, pos, val):\n",
    "        if pos == -1:\n",
    "            return False\n",
    "        f_val = self.f_t_b_arr(val)\n",
    "        mm[pos: pos + 4] = f_val\n",
    "        return\n",
    "    \n",
    "    def get_pos(self, mm, pos):\n",
    "        if pos == -1:\n",
    "            return 0\n",
    "        val = self.b_arr_t_f(mm[pos: pos + 4])\n",
    "        return val\n",
    "    \n",
    "    def fill_matrix(self):\n",
    "        coll_dir = self.coll_dir\n",
    "        file_count = 0\n",
    "        limit_file_read_to = self.limit_file_read_to\n",
    "        print('Filling default(0.0) values in matrix')\n",
    "        self.fill_default_values()\n",
    "        print('Creating matrix-------------')\n",
    "        file_c = open(self.co_occour_file,'r+b')\n",
    "        mm_c = mmap.mmap(file_c.fileno(), 0)\n",
    "        for filename in sorted(os.listdir(coll_dir)):\n",
    "            file_count += 1\n",
    "            print('For File:', filename)\n",
    "            with open(os.path.join(coll_dir, filename), 'r') as f:\n",
    "                with mmap.mmap(f.fileno(),length = 0, access = mmap.ACCESS_READ) as mm:\n",
    "                    playlists = json.load(mm)['playlists']\n",
    "                    # print('total playlists:', len(playlists))\n",
    "                    for playlist in playlists[self.validation_pl_upto:]:\n",
    "                        tracks = playlist['tracks'][:]\n",
    "                        n = len(tracks)\n",
    "                        for i in range(n):\n",
    "                            for j in range(i+1,n):\n",
    "                                pos = self.get_file_position(tracks[i]['track_uri'], tracks[j]['track_uri'])\n",
    "                                if pos == -1:\n",
    "                                    print('still some unknown tracks encountered')\n",
    "                                    continue\n",
    "                                val = self.get_pos(mm_c, pos)\n",
    "                                self.set_pos(mm_c, pos, val + 1)\n",
    "                                #val = self.get_sim_track_ij(tracks[i]['track_uri'], tracks[j]['track_uri'])\n",
    "                                #self.set_track_ij(tracks[i]['track_uri'], tracks[j]['track_uri'], val + 1)\n",
    "                                \n",
    "            if file_count >= limit_file_read_to:\n",
    "                break\n",
    "        mm_c.close()\n",
    "        file_c.close()\n",
    "        print('Matrix created-------------')\n",
    "        return True\n",
    "    \n",
    "    def get_row_termi(self, track_i):\n",
    "        sim_track_i = []\n",
    "        file_c = open(self.co_occour_file,'r+b')\n",
    "        mm_c = mmap.mmap(file_c.fileno(), 0)\n",
    "        for i in range(self.TVocab.vocab_length):\n",
    "            track_j = self.TVocab.to_track(i)\n",
    "            pos = self.get_file_position(track_i, track_j)\n",
    "            val = 0\n",
    "            if pos != -1:\n",
    "                #print('Pos, track, index',pos, track_j, i)\n",
    "                val = self.get_pos(mm_c, pos)\n",
    "            sim_track_i.append(val)\n",
    "        mm_c.close()\n",
    "        file_c.close()\n",
    "        return sim_track_i"
   ]
  },
  {
   "cell_type": "code",
   "execution_count": 8,
   "id": "ab70cc10-047d-4a89-89ea-3d6520a221d3",
   "metadata": {},
   "outputs": [
    {
     "name": "stdout",
     "output_type": "stream",
     "text": [
      "Creating Track Vocabulary\n"
     ]
    }
   ],
   "source": [
    "co = CoOcc(collection_dir, TVocab= None, idf = None, co_occour_file='hpc_results/co_occ_file_5.txt')"
   ]
  },
  {
   "cell_type": "code",
   "execution_count": 7,
   "id": "3784f607-0363-4c62-82b3-82acb62da66f",
   "metadata": {},
   "outputs": [],
   "source": [
    "# co.fill_matrix()"
   ]
  },
  {
   "cell_type": "code",
   "execution_count": 14,
   "id": "3a979610-e7a9-4f44-8d81-3bb116c86726",
   "metadata": {
    "tags": []
   },
   "outputs": [],
   "source": [
    "#print(TVocab.to_track(5))\n",
    "#len(co.get_row_termi(TVocab.to_track(5)))"
   ]
  },
  {
   "cell_type": "code",
   "execution_count": 15,
   "id": "a50244a0-3fec-4538-9cab-619e5ed3f72e",
   "metadata": {},
   "outputs": [],
   "source": [
    "#co.get_sim_track_ij(TVocab.to_track(500), TVocab.to_track(40))"
   ]
  },
  {
   "cell_type": "code",
   "execution_count": 11,
   "id": "bbf4d051-cd32-4a37-a54e-4e4e5a973a49",
   "metadata": {},
   "outputs": [],
   "source": [
    "# mat = np.zeros((6,6))\n",
    "# for i in range(6):\n",
    "#     for j in range(i, 6):\n",
    "#         mat[i][j] = co.get_sim_track_ij(TVocab.index2track[i], TVocab.index2track[j])\n",
    "\n",
    "# print(mat)"
   ]
  },
  {
   "cell_type": "code",
   "execution_count": null,
   "id": "558b5eaa-7984-4cdc-be28-14fdfa322bb5",
   "metadata": {},
   "outputs": [],
   "source": []
  },
  {
   "cell_type": "code",
   "execution_count": null,
   "id": "18d5be00-632e-4246-8e86-30aa499c73d0",
   "metadata": {},
   "outputs": [],
   "source": []
  },
  {
   "cell_type": "code",
   "execution_count": null,
   "id": "5732d43e-8142-4dfa-bac1-a01d2db9f657",
   "metadata": {},
   "outputs": [],
   "source": []
  },
  {
   "cell_type": "code",
   "execution_count": 24,
   "id": "9a9953b4-1eac-4bca-9e25-72700ce0ac77",
   "metadata": {
    "collapsed": true,
    "jupyter": {
     "outputs_hidden": true
    },
    "tags": []
   },
   "outputs": [
    {
     "name": "stdout",
     "output_type": "stream",
     "text": [
      "For x,y: 0, 0\n",
      "\t 0\n",
      "For x,y: 0, 1\n",
      "\t 4\n",
      "For x,y: 0, 2\n",
      "\t 8\n",
      "For x,y: 0, 3\n",
      "\t 12\n",
      "For x,y: 0, 4\n",
      "\t 16\n",
      "For x,y: 0, 5\n",
      "\t 20\n",
      "For x,y: 1, 1\n",
      "\t 24\n",
      "For x,y: 1, 2\n",
      "\t 28\n",
      "For x,y: 1, 3\n",
      "\t 32\n",
      "For x,y: 1, 4\n",
      "\t 36\n",
      "For x,y: 1, 5\n",
      "\t 40\n",
      "For x,y: 2, 2\n",
      "\t 44\n",
      "For x,y: 2, 3\n",
      "\t 48\n",
      "For x,y: 2, 4\n",
      "\t 52\n",
      "For x,y: 2, 5\n",
      "\t 56\n",
      "For x,y: 3, 3\n",
      "\t 60\n",
      "For x,y: 3, 4\n",
      "\t 64\n",
      "For x,y: 3, 5\n",
      "\t 68\n",
      "For x,y: 4, 4\n",
      "\t 72\n",
      "For x,y: 4, 5\n",
      "\t 76\n",
      "For x,y: 5, 5\n",
      "\t 80\n"
     ]
    }
   ],
   "source": [
    "# # Checking get_file_position method\n",
    "# for i in range(6):\n",
    "#     for j in range(i,6):\n",
    "#         print('For x,y: %d, %d'%(i,j))\n",
    "#         pos = co.get_file_position(TVocab.index2track[i], TVocab.index2track[j])\n",
    "#         print('\\t', pos)"
   ]
  },
  {
   "cell_type": "code",
   "execution_count": null,
   "id": "26d5b70e-6d1d-4e7b-b9ed-98c43f3c72d6",
   "metadata": {},
   "outputs": [],
   "source": []
  },
  {
   "cell_type": "code",
   "execution_count": null,
   "id": "2110d44e-5463-48bd-89b7-1d2484e4c25e",
   "metadata": {},
   "outputs": [],
   "source": []
  },
  {
   "cell_type": "code",
   "execution_count": null,
   "id": "ffaaa34f-53db-40f2-99f5-40bc78f68f42",
   "metadata": {},
   "outputs": [],
   "source": []
  },
  {
   "cell_type": "code",
   "execution_count": null,
   "id": "2531b5e5-cf4a-4197-96ce-c78b4401a43b",
   "metadata": {},
   "outputs": [],
   "source": []
  },
  {
   "cell_type": "code",
   "execution_count": null,
   "id": "e2208208-83d6-47fb-a7af-d8d9daa347fe",
   "metadata": {},
   "outputs": [],
   "source": []
  },
  {
   "cell_type": "code",
   "execution_count": 139,
   "id": "d19dc762-a2d6-47c5-a012-4e6a88909131",
   "metadata": {},
   "outputs": [],
   "source": [
    "# import sys\n",
    "# sys.stdout.flush()"
   ]
  },
  {
   "cell_type": "code",
   "execution_count": 147,
   "id": "c671b7cf-d6da-40e8-b223-eeb41bd550f1",
   "metadata": {},
   "outputs": [
    {
     "name": "stdout",
     "output_type": "stream",
     "text": [
      "\n"
     ]
    }
   ],
   "source": [
    "# f = open('co_occour2.txt', 'r')\n",
    "# print(f.read())\n",
    "# f.close()\n",
    "    "
   ]
  },
  {
   "cell_type": "code",
   "execution_count": null,
   "id": "cd29fd24-dc0a-4661-9ae0-389ff03461e5",
   "metadata": {},
   "outputs": [],
   "source": []
  },
  {
   "cell_type": "code",
   "execution_count": 30,
   "id": "0df22670-1626-44bc-926f-b00afc1e4a4e",
   "metadata": {},
   "outputs": [],
   "source": [
    "# def f_t_i_arr(val):\n",
    "#     return bytearray(struct.pack('f', val))\n",
    "# def i_arr_t_f(arr):\n",
    "#     return struct.unpack('f', arr)[0]"
   ]
  },
  {
   "cell_type": "code",
   "execution_count": 31,
   "id": "ba8181b1-4e0b-4293-8005-41300a84cc91",
   "metadata": {},
   "outputs": [
    {
     "name": "stdout",
     "output_type": "stream",
     "text": [
      "bytearray(b'33\\xa3@')\n"
     ]
    }
   ],
   "source": [
    "# b_arr = f_t_i_arr(5.1)\n",
    "# # print(b_arr)"
   ]
  },
  {
   "cell_type": "code",
   "execution_count": 32,
   "id": "d586ce72-5345-4115-89fe-26e519ce378c",
   "metadata": {},
   "outputs": [
    {
     "name": "stdout",
     "output_type": "stream",
     "text": [
      "5.099999904632568\n",
      "<class 'float'>\n"
     ]
    }
   ],
   "source": [
    "# val = i_arr_t_f(b_arr)\n",
    "# print(val)\n",
    "# print(type(val))"
   ]
  },
  {
   "cell_type": "code",
   "execution_count": null,
   "id": "d425353d-5109-4fd5-8a98-99e74d532dfd",
   "metadata": {},
   "outputs": [],
   "source": []
  }
 ],
 "metadata": {
  "kernelspec": {
   "display_name": "Python 3 (ipykernel)",
   "language": "python",
   "name": "python3"
  },
  "language_info": {
   "codemirror_mode": {
    "name": "ipython",
    "version": 3
   },
   "file_extension": ".py",
   "mimetype": "text/x-python",
   "name": "python",
   "nbconvert_exporter": "python",
   "pygments_lexer": "ipython3",
   "version": "3.8.8"
  }
 },
 "nbformat": 4,
 "nbformat_minor": 5
}
