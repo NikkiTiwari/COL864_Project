{
 "cells": [
  {
   "cell_type": "code",
   "execution_count": 1,
   "id": "2f312998-4188-4192-8866-795a39487480",
   "metadata": {},
   "outputs": [],
   "source": [
    "import numpy as np\n",
    "import os\n",
    "import json\n",
    "import pandas as pd\n",
    "import time\n",
    "from tqdm import tqdm\n",
    "import gc\n",
    "import mmap\n",
    "from scipy import spatial\n",
    "import heapq\n",
    "import random"
   ]
  },
  {
   "cell_type": "code",
   "execution_count": 2,
   "id": "35913a1c-fed8-4be7-94d7-59476e7b0e74",
   "metadata": {},
   "outputs": [],
   "source": [
    "import import_ipynb"
   ]
  },
  {
   "cell_type": "code",
   "execution_count": 3,
   "id": "e33a852f-bf04-485f-bcb4-4c6dd0617a1f",
   "metadata": {},
   "outputs": [
    {
     "name": "stdout",
     "output_type": "stream",
     "text": [
      "importing Jupyter notebook from get_similar_tracks.ipynb\n",
      "Creating Track Vocabulary\n",
      "Reading the dataset\n",
      "for file       : mpd.slice.102000-102999.json\n",
      "total playlists: 1000\n",
      "for file       : mpd.slice.103000-103999.json\n",
      "total playlists: 1000\n",
      "for file       : mpd.slice.104000-104999.json\n",
      "total playlists: 1000\n",
      "for file       : mpd.slice.101000-101999.json\n",
      "total playlists: 1000\n",
      "for file       : mpd.slice.10000-10999.json\n",
      "total playlists: 1000\n",
      "total time taken 0.8872902393341064\n",
      "950\n",
      "Total similar playlists 50\n",
      "total tracks: 569\n",
      "Total similar playlists 50\n",
      "total tracks: 4460\n",
      "importing Jupyter notebook from create_co_occour_mat.ipynb\n",
      "Creating Track Vocabulary\n",
      "Creating Track Vocabulary\n"
     ]
    }
   ],
   "source": [
    "from src.show import show_playlist\n",
    "from get_similar_tracks import SimilarTraks\n",
    "from create_co_occour_mat import CoOcc\n",
    "collection_dir = '/media/harsh/Common/IITD/COL764-IR/Project/spotify_million_playlist_dataset/data/'\n",
    "#random.seed(0)"
   ]
  },
  {
   "cell_type": "code",
   "execution_count": 4,
   "id": "ccf6ebde-0c73-44e8-96b1-75d2d9ea633c",
   "metadata": {},
   "outputs": [],
   "source": [
    "class Rerank:\n",
    "    def __init__(self, coll_dir, TVocab, idf, select_subset_of = None, apply_pca = False):\n",
    "        self.coll_dir = coll_dir\n",
    "        self.vocab = TVocab\n",
    "        self.idf = idf\n",
    "        self.select_subset_of = select_subset_of\n",
    "        self.co_occ_handler = CoOcc(collection_dir=self.coll_dir, TVocab=self.vocab, idf=self.idf)\n",
    "        self.sim_tracks = SimilarTraks(TVocab=TVocab,idf=idf,collection_dir=self.coll_dir, top_k= 100, apply_pca=apply_pca)\n",
    "    \n",
    "    def get_unranked_tracks(self, pid):\n",
    "        sim = self.sim_tracks\n",
    "        recommended = sim.get_songs_for_p(pid, self.select_subset_of)\n",
    "        print('reccommended len (finally 500)', len(recommended))\n",
    "        if len(recommended) < 500:\n",
    "            tracks_from_archive = []\n",
    "            with open('tracks_archive.txt','r') as f:\n",
    "                tracks_from_archive = f.read().split()\n",
    "                #print('archieved tracks',len(tracks_from_archive))\n",
    "            index = 0\n",
    "            while(len(recommended)<500):\n",
    "                recommended.append(tracks_from_archive[index])\n",
    "                index+=1\n",
    "        return recommended\n",
    "    \n",
    "    def get_relevent_tracks(self, pid):\n",
    "        actual_tracks = []\n",
    "        select_subset_of = self.select_subset_of\n",
    "        playlist = show_playlist(self.coll_dir, pid, print_op=False)\n",
    "        if playlist is None:\n",
    "            return []\n",
    "        for track in playlist['tracks']:\n",
    "            actual_tracks.append(track['track_uri'])\n",
    "        print('relevent tracks size:', len(actual_tracks))\n",
    "        if select_subset_of is not None and select_subset_of < len(actual_tracks):\n",
    "            random.seed(0)\n",
    "            actual_tracks = random.sample(actual_tracks, select_subset_of)\n",
    "        print('sampled relevent tracks',len(actual_tracks))\n",
    "        return actual_tracks\n",
    "    \n",
    "    def get_reranked_tracks(self, pid):\n",
    "        recommended = self.get_unranked_tracks(pid)\n",
    "        #print('recommended tracks', len(recommended))\n",
    "        #select subset of = 5 => get only random 5 songs from whole playlist\n",
    "        relevent_subset = self.get_relevent_tracks(pid)\n",
    "        #print('relevent track:',relevent_subset)\n",
    "        sim_scores = np.zeros(len(recommended))\n",
    "        co_occ_handler = self.co_occ_handler\n",
    "        for rel_track in relevent_subset:\n",
    "            for i, rec_track in enumerate(recommended):\n",
    "                #print(co_occ_handler.TVocab.to_index(rel_track))\n",
    "                #print(co_occ_handler.TVocab.to_index(rec_track))\n",
    "                \n",
    "                sim = co_occ_handler.get_sim_track_ij(rel_track, rec_track)\n",
    "                #print('sim', sim)\n",
    "                sim_scores[i] += sim\n",
    "        ranked_index = np.argsort(sim_scores)[::-1]\n",
    "        #print('%-20s'%'un sorted sim score', sim_scores[:10])\n",
    "        #print('%-20s'%'sim scores',sim_scores[ranked_index][:10])\n",
    "        ranked = []\n",
    "        for i in ranked_index:\n",
    "            ranked.append(recommended[i])\n",
    "        ranked = ranked[:500]\n",
    "        #print('%-20s'%'top reranked tracks', ranked[:10])\n",
    "        #print('%-20s'%'no reranked tracks', len(ranked))\n",
    "        return ranked\n",
    "    "
   ]
  },
  {
   "cell_type": "code",
   "execution_count": 5,
   "id": "b7bc176c-e9a9-4625-8e88-4e0eb6a92f1b",
   "metadata": {},
   "outputs": [
    {
     "name": "stdout",
     "output_type": "stream",
     "text": [
      "Creating Track Vocabulary\n",
      "Creating Track Vocabulary\n"
     ]
    }
   ],
   "source": [
    "rerank = Rerank(collection_dir, TVocab= None, idf= None, select_subset_of=20, apply_pca=True)"
   ]
  },
  {
   "cell_type": "code",
   "execution_count": 10,
   "id": "bf775393-94c4-4381-b1a1-e480e7912334",
   "metadata": {},
   "outputs": [
    {
     "name": "stdout",
     "output_type": "stream",
     "text": [
      "Total similar playlists 100\n",
      "total tracks: 2855\n",
      "reccommended len (finally 500) 2855\n",
      "relevent tracks size: 93\n",
      "sampled relevent tracks 20\n",
      "CPU times: user 9.5 s, sys: 204 ms, total: 9.7 s\n",
      "Wall time: 9.7 s\n"
     ]
    }
   ],
   "source": [
    "%%time\n",
    "_ = rerank.get_reranked_tracks(pid=324003)"
   ]
  },
  {
   "cell_type": "code",
   "execution_count": null,
   "id": "a7136cb2-04ac-4c35-9850-86444503e800",
   "metadata": {},
   "outputs": [],
   "source": [
    "%%time\n",
    "v_pids =[]\n",
    "with open('validation_pids_1.txt','r') as f:\n",
    "    v_pids = f.read().split()\n",
    "    v_pids = [int(pid) for pid in v_pids]\n",
    "for pid in v_pids:\n",
    "    rerank.get_reranked_tracks(pid)"
   ]
  },
  {
   "cell_type": "code",
   "execution_count": null,
   "id": "a765c2f1-f469-4596-bd01-226733ea7bbc",
   "metadata": {},
   "outputs": [],
   "source": []
  }
 ],
 "metadata": {
  "kernelspec": {
   "display_name": "Python 3 (ipykernel)",
   "language": "python",
   "name": "python3"
  },
  "language_info": {
   "codemirror_mode": {
    "name": "ipython",
    "version": 3
   },
   "file_extension": ".py",
   "mimetype": "text/x-python",
   "name": "python",
   "nbconvert_exporter": "python",
   "pygments_lexer": "ipython3",
   "version": "3.8.8"
  }
 },
 "nbformat": 4,
 "nbformat_minor": 5
}
