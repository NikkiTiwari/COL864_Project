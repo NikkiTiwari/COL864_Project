{
 "cells": [
  {
   "cell_type": "code",
   "execution_count": 1,
   "id": "d9a6f2f5-36af-4506-8d37-45c96bd38573",
   "metadata": {},
   "outputs": [],
   "source": [
    "import numpy as np\n",
    "import os\n",
    "import json\n",
    "import pandas as pd\n",
    "import time\n",
    "from tqdm import tqdm\n",
    "import gc\n",
    "import mmap\n",
    "from scipy import spatial\n",
    "import heapq\n",
    "from sklearn.metrics import ndcg_score"
   ]
  },
  {
   "cell_type": "code",
   "execution_count": 2,
   "id": "27690b92-70aa-4211-b8ef-6e627ceea3ab",
   "metadata": {},
   "outputs": [],
   "source": [
    "# !pip install import-ipynb\n",
    "import import_ipynb\n",
    "# random.seed(0)"
   ]
  },
  {
   "cell_type": "code",
   "execution_count": 3,
   "id": "762451c6-bdbf-4161-9bd4-c7bc9b218f5d",
   "metadata": {},
   "outputs": [
    {
     "name": "stdout",
     "output_type": "stream",
     "text": [
      "importing Jupyter notebook from get_similar_tracks.ipynb\n",
      "Creating Track Vocabulary\n",
      "Reading the dataset\n",
      "for file       : mpd.slice.324000-324999.json\n",
      "total playlists: 1000\n",
      "total time taken 0.2846109867095947\n",
      "190\n",
      "Total similar playlists 50\n",
      "total tracks: 589\n",
      "Total similar playlists 50\n",
      "total tracks: 2457\n",
      "importing Jupyter notebook from Rerank_docs.ipynb\n",
      "importing Jupyter notebook from create_co_occour_mat.ipynb\n",
      "Creating Track Vocabulary\n",
      "Creating Track Vocabulary\n",
      "Creating Track Vocabulary\n",
      "Creating Track Vocabulary\n",
      "Total similar playlists 100\n",
      "total tracks: 3459\n",
      "reccommended len (finally 500) 3459\n",
      "relevent tracks size: 93\n",
      "sampled relevent tracks 20\n"
     ]
    }
   ],
   "source": [
    "from src.show import show_playlist\n",
    "from get_similar_tracks import *\n",
    "from Rerank_docs import Rerank\n",
    "from Vocab_class import TermVocab\n",
    "from generate_vocab import create_vocab\n",
    "collection_dir = '/media/harsh/Common/IITD/COL764-IR/Project/spotify_million_playlist_dataset/data/'"
   ]
  },
  {
   "cell_type": "code",
   "execution_count": 4,
   "id": "58d3e403-7bcf-4166-a926-95cb6dfa984f",
   "metadata": {},
   "outputs": [
    {
     "name": "stdout",
     "output_type": "stream",
     "text": [
      "Creating Track Vocabulary\n"
     ]
    }
   ],
   "source": [
    "vocab, idf = create_vocab(collection_dir)"
   ]
  },
  {
   "cell_type": "code",
   "execution_count": 5,
   "id": "f097d1d3-a793-484e-ac61-f2953bbdd871",
   "metadata": {},
   "outputs": [],
   "source": [
    "class Evaluate:\n",
    "    def __init__(self, coll_dir, vocab, idf):\n",
    "        self.coll_dir = coll_dir\n",
    "        self.vocab = vocab\n",
    "        self.idf = idf\n",
    "        self.rerank = Rerank(self.coll_dir, TVocab= self.vocab, idf= self.idf, select_subset_of=20, apply_pca= True)\n",
    "    \n",
    "    def get_relevent_tracks(self, pid):\n",
    "        actual_tracks = []\n",
    "        playlist = show_playlist(self.coll_dir, pid, print_op=False)\n",
    "        if playlist is None:\n",
    "            return []\n",
    "        for track in playlist['tracks']:\n",
    "            actual_tracks.append(track['track_uri'])\n",
    "        return actual_tracks[:500]\n",
    "    \n",
    "    def get_recommended_songs(self, pid):\n",
    "        recommended = self.rerank.get_reranked_tracks(pid=pid)\n",
    "        return recommended\n",
    "    \n",
    "    def r_precision(self, pid):\n",
    "        recommended = self.get_recommended_songs(pid)\n",
    "        relevent = self.get_relevent_tracks(pid)\n",
    "        score = 0\n",
    "        score = len(set(recommended) & set(relevent))\n",
    "        score = score/len(relevent)\n",
    "        #print('r_precision',score)\n",
    "        return score\n",
    "    \n",
    "    def ndcg(self, recommended, relevent):\n",
    "        score = 0\n",
    "        #score = ndcg_score(relevent, recommended)\n",
    "        if recommended[0] in relevent:\n",
    "            score = 1\n",
    "        index = 2\n",
    "        idcg = 1\n",
    "        for rec in recommended[1:]:\n",
    "            rel_i = 1 if rec in relevent else 0\n",
    "            score += rel_i/np.log2(index)\n",
    "            idcg += 1/np.log2(index)\n",
    "            index += 1\n",
    "        score = score/idcg\n",
    "        #print('ndcg', score)\n",
    "        return score\n",
    "        \n",
    "    def click_at(self, pid):\n",
    "        recommended = self.get_recommended_songs(pid)\n",
    "        relevent = self.get_relevent_tracks(pid)\n",
    "        #print('rec. tracks:',len(recommended))\n",
    "        #print('rel. tracks:',len(relevent))\n",
    "        click = 51\n",
    "        for i,track in enumerate(recommended):\n",
    "            if track in relevent:\n",
    "                click = i/10\n",
    "                break\n",
    "        #print('click',click)\n",
    "        return click\n",
    "    \n",
    "    def calc_metrices(self, pid):\n",
    "        recommended = self.get_recommended_songs(pid)\n",
    "        relevent = self.get_relevent_tracks(pid)\n",
    "        print('rec. tracks:',len(recommended))\n",
    "        print('rel. tracks:',len(relevent))\n",
    "        click = 51\n",
    "        for i,track in enumerate(recommended):\n",
    "            if track in relevent:\n",
    "                click = i/10\n",
    "                break\n",
    "        print('click      :',click)\n",
    "        score = 0\n",
    "        score = len(set(recommended) & set(relevent))\n",
    "        score = score/len(relevent)\n",
    "        print('r_precision:',score)\n",
    "        ndcg_s = self.ndcg(recommended, relevent)\n",
    "        print('ndcg       :',ndcg_s)\n",
    "        return click, score, ndcg_s\n",
    "    \n",
    "    def avg_clicks(self, pids):\n",
    "        avg_clicks = 0\n",
    "        for pid in pids:\n",
    "            avg_clicks += self.click_at(pid)\n",
    "            #print(avg_clicks)\n",
    "        avg_clicks /= len(pids)\n",
    "        #print('avg Clicks:',avg_clicks)\n",
    "        return avg_clicks\n",
    "    \n",
    "    def avg_metricess(self, pids):\n",
    "        avg_clicks = 0\n",
    "        avg_prec = 0\n",
    "        avg_ndcg = 0\n",
    "        for pid in pids:\n",
    "            c, p, nd = self.calc_metrices(pid)\n",
    "            avg_clicks += c\n",
    "            avg_prec += p\n",
    "            avg_ndcg += nd\n",
    "            #print(avg_clicks)\n",
    "        avg_clicks /= len(pids)\n",
    "        avg_prec /= len(pids)\n",
    "        avg_ndcg /= len(pids)\n",
    "        print('avg Clicks   :',avg_clicks)\n",
    "        print('avg Precision:',avg_prec)\n",
    "        print('avg nDCG     :',avg_ndcg)\n",
    "        return avg_clicks, avg_prec"
   ]
  },
  {
   "cell_type": "code",
   "execution_count": 6,
   "id": "404bb37d-9aaa-4a26-bcc3-a4164564b55f",
   "metadata": {},
   "outputs": [],
   "source": [
    "evl = Evaluate(collection_dir, vocab=vocab, idf=idf)"
   ]
  },
  {
   "cell_type": "code",
   "execution_count": 7,
   "id": "c83068a2-a801-45a8-9ad0-fc8aed41b578",
   "metadata": {
    "tags": []
   },
   "outputs": [
    {
     "name": "stdout",
     "output_type": "stream",
     "text": [
      "Total similar playlists 100\n",
      "total tracks: 2885\n",
      "reccommended len (finally 500) 2885\n",
      "relevent tracks size: 165\n",
      "sampled relevent tracks 20\n",
      "rec. tracks: 500\n",
      "rel. tracks: 165\n",
      "click      : 0.0\n",
      "r_precision: 0.21818181818181817\n",
      "ndcg       : 0.18278106057592614\n"
     ]
    },
    {
     "data": {
      "text/plain": [
       "(0.0, 0.21818181818181817, 0.18278106057592614)"
      ]
     },
     "execution_count": 7,
     "metadata": {},
     "output_type": "execute_result"
    }
   ],
   "source": [
    "evl.calc_metrices(324002)"
   ]
  },
  {
   "cell_type": "code",
   "execution_count": 8,
   "id": "3f85e3c6-47cd-42fd-ad6e-c46ca5918a91",
   "metadata": {
    "tags": []
   },
   "outputs": [
    {
     "name": "stdout",
     "output_type": "stream",
     "text": [
      "Total similar playlists 100\n",
      "total tracks: 5165\n",
      "reccommended len (finally 500) 5165\n",
      "relevent tracks size: 37\n",
      "sampled relevent tracks 20\n",
      "rec. tracks: 500\n",
      "rel. tracks: 37\n",
      "click      : 15.8\n",
      "r_precision: 0.10810810810810811\n",
      "ndcg       : 0.00704437747235646\n",
      "Total similar playlists 100\n",
      "total tracks: 1459\n",
      "reccommended len (finally 500) 1459\n",
      "relevent tracks size: 24\n",
      "sampled relevent tracks 20\n",
      "rec. tracks: 500\n",
      "rel. tracks: 24\n",
      "click      : 28.7\n",
      "r_precision: 0.041666666666666664\n",
      "ndcg       : 0.0017132007824331252\n",
      "Total similar playlists 100\n",
      "total tracks: 2885\n",
      "reccommended len (finally 500) 2885\n",
      "relevent tracks size: 165\n",
      "sampled relevent tracks 20\n",
      "rec. tracks: 500\n",
      "rel. tracks: 165\n",
      "click      : 0.0\n",
      "r_precision: 0.21818181818181817\n",
      "ndcg       : 0.18278106057592614\n",
      "Total similar playlists 100\n",
      "total tracks: 3459\n",
      "reccommended len (finally 500) 3459\n",
      "relevent tracks size: 93\n",
      "sampled relevent tracks 20\n",
      "rec. tracks: 500\n",
      "rel. tracks: 93\n",
      "click      : 9.2\n",
      "r_precision: 0.03225806451612903\n",
      "ndcg       : 0.008772779092306109\n",
      "Total similar playlists 100\n",
      "total tracks: 1715\n",
      "reccommended len (finally 500) 1715\n",
      "relevent tracks size: 19\n",
      "sampled relevent tracks 19\n",
      "rec. tracks: 500\n",
      "rel. tracks: 19\n",
      "click      : 9.0\n",
      "r_precision: 0.3684210526315789\n",
      "ndcg       : 0.03730894436649465\n",
      "Total similar playlists 100\n",
      "total tracks: 1657\n",
      "reccommended len (finally 500) 1657\n",
      "relevent tracks size: 16\n",
      "sampled relevent tracks 16\n",
      "rec. tracks: 500\n",
      "rel. tracks: 16\n",
      "click      : 51\n",
      "r_precision: 0.0\n",
      "ndcg       : 0.0\n",
      "Total similar playlists 100\n",
      "total tracks: 1651\n",
      "reccommended len (finally 500) 1651\n",
      "relevent tracks size: 16\n",
      "sampled relevent tracks 16\n",
      "rec. tracks: 500\n",
      "rel. tracks: 16\n",
      "click      : 14.4\n",
      "r_precision: 0.125\n",
      "ndcg       : 0.0037654493115257606\n",
      "Total similar playlists 100\n",
      "total tracks: 1610\n",
      "reccommended len (finally 500) 1610\n",
      "relevent tracks size: 95\n",
      "sampled relevent tracks 20\n",
      "rec. tracks: 500\n",
      "rel. tracks: 95\n",
      "click      : 0.0\n",
      "r_precision: 0.4\n",
      "ndcg       : 0.16766359276390813\n",
      "Total similar playlists 100\n",
      "total tracks: 2162\n",
      "reccommended len (finally 500) 2162\n",
      "relevent tracks size: 187\n",
      "sampled relevent tracks 20\n",
      "rec. tracks: 500\n",
      "rel. tracks: 187\n",
      "click      : 0.0\n",
      "r_precision: 0.22994652406417113\n",
      "ndcg       : 0.20430821193276025\n",
      "Total similar playlists 100\n",
      "total tracks: 1790\n",
      "reccommended len (finally 500) 1790\n",
      "relevent tracks size: 13\n",
      "sampled relevent tracks 13\n",
      "rec. tracks: 500\n",
      "rel. tracks: 13\n",
      "click      : 0.9\n",
      "r_precision: 0.3076923076923077\n",
      "ndcg       : 0.010324369040391954\n",
      "avg Clicks   : 12.9\n",
      "avg Precision: 0.18312745418607795\n",
      "avg nDCG     : 0.06236819853381026\n"
     ]
    },
    {
     "data": {
      "text/plain": [
       "(12.9, 0.18312745418607795)"
      ]
     },
     "execution_count": 8,
     "metadata": {},
     "output_type": "execute_result"
    }
   ],
   "source": [
    "v_pids =[]\n",
    "with open('validation_pids_1.txt','r') as f:\n",
    "    v_pids = f.read().split()\n",
    "    v_pids = [int(pid) for pid in v_pids]\n",
    "evl.avg_metricess(v_pids[:10])"
   ]
  },
  {
   "cell_type": "code",
   "execution_count": null,
   "id": "6399c7f2-e8e3-48b7-9dc4-bb595c12057d",
   "metadata": {
    "collapsed": true,
    "jupyter": {
     "outputs_hidden": true
    },
    "tags": []
   },
   "outputs": [],
   "source": []
  },
  {
   "cell_type": "code",
   "execution_count": null,
   "id": "fd86d5f2-3deb-49a7-aa24-6a014acd4696",
   "metadata": {},
   "outputs": [],
   "source": []
  }
 ],
 "metadata": {
  "kernelspec": {
   "display_name": "Python 3 (ipykernel)",
   "language": "python",
   "name": "python3"
  },
  "language_info": {
   "codemirror_mode": {
    "name": "ipython",
    "version": 3
   },
   "file_extension": ".py",
   "mimetype": "text/x-python",
   "name": "python",
   "nbconvert_exporter": "python",
   "pygments_lexer": "ipython3",
   "version": "3.8.8"
  }
 },
 "nbformat": 4,
 "nbformat_minor": 5
}
