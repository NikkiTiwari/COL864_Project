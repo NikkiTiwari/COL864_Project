{
 "cells": [
  {
   "cell_type": "code",
   "execution_count": 1,
   "id": "b70311f0",
   "metadata": {},
   "outputs": [],
   "source": [
    "import pandas as pd\n",
    "import numpy as np\n",
    "from sklearn.decomposition import PCA\n",
    "import pickle as pk\n",
    "import random"
   ]
  },
  {
   "cell_type": "code",
   "execution_count": 2,
   "id": "c9253878-ccb8-4304-bec7-0122809d7200",
   "metadata": {},
   "outputs": [],
   "source": [
    "from generate_vocab import create_vocab\n",
    "from src.show import show_playlist"
   ]
  },
  {
   "cell_type": "code",
   "execution_count": 3,
   "id": "61907a54-284c-420a-8ebd-bf6fb5448ae3",
   "metadata": {},
   "outputs": [
    {
     "name": "stdout",
     "output_type": "stream",
     "text": [
      "Creating Track Vocabulary\n"
     ]
    }
   ],
   "source": [
    "collection_dir = '/media/harsh/Common/IITD/COL764-IR/Project/spotify_million_playlist_dataset/data/'\n",
    "TVocab, idf = create_vocab(collection_dir)"
   ]
  },
  {
   "cell_type": "code",
   "execution_count": 4,
   "id": "a9d2fd3b-58d8-430a-b06d-5ed5fa411f50",
   "metadata": {},
   "outputs": [],
   "source": [
    "# X = [[7,8,9,10],[45,67,56,57],[34,23,56,78],[68,78,89,90],[1,2,3,4],[2,3,4,5],[8,9,10,11]]\n",
    "# X"
   ]
  },
  {
   "cell_type": "code",
   "execution_count": 5,
   "id": "43da7c68-bb28-4d65-a26f-5b6ae5f465f1",
   "metadata": {},
   "outputs": [],
   "source": [
    "# pca_test = PCA(n_components=2)\n",
    "# for x in range(0,len(X), 2):\n",
    "#     print(X[x:x+2])\n",
    "#     pca_test.fit(X[x:x+2])\n",
    "# print(pca_test.transform(X))"
   ]
  },
  {
   "cell_type": "code",
   "execution_count": 6,
   "id": "ecfc025b",
   "metadata": {},
   "outputs": [],
   "source": [
    "# from sklearn.decomposition import PCA\n",
    "\n",
    "# for i in range(len(X)):\n",
    "#     X[i] = np.array(X[i])\n",
    "# pca = PCA(n_components = 2)\n",
    "# pc= pca.fit(X)\n",
    "# print(pc.transform(X))\n",
    "# pc.transform([X[1]])"
   ]
  },
  {
   "cell_type": "code",
   "execution_count": 10,
   "id": "dd8d95fc-6311-401b-af55-74dc167d070d",
   "metadata": {},
   "outputs": [],
   "source": [
    "class create_pca:\n",
    "    def __init__(self, n, vocab, collection_dir, pid_file, pca_file):\n",
    "        self.n = n\n",
    "        self.vocab = vocab\n",
    "        self.collection_dir = collection_dir\n",
    "        self.pid_file = pid_file\n",
    "        self.pca_file = pca_file\n",
    "    \n",
    "    def get_playlist_vector(self, pid, select_subset_of = None):\n",
    "        playlist = show_playlist(self.collection_dir, pid, print_op = False)\n",
    "        p_vec = np.zeros(self.vocab.vocab_length)\n",
    "        if playlist is None:\n",
    "            return p_vec\n",
    "        \n",
    "        #print('retrieved pl size:',len(playlist))\n",
    "        #print('for playlist:', playlist['name'], playlist['pid'])\n",
    "        selected_tracks = playlist['tracks']\n",
    "        if select_subset_of != None and select_subset_of < len(selected_tracks):\n",
    "            print('pid', playlist['pid'])\n",
    "            print('len of tracks',len(selected_tracks))\n",
    "            random.seed(0)\n",
    "            selected_tracks = random.sample(selected_tracks, select_subset_of)\n",
    "            print('len of subset of tracks',len(selected_tracks))\n",
    "\n",
    "        for track in selected_tracks:\n",
    "            if track['track_uri'] in self.vocab.track2index and track['track_uri'] in idf:\n",
    "                indx = self.vocab.to_index(track['track_uri'])\n",
    "                p_vec[indx] = 1*idf[track['track_uri']]\n",
    "        #print(p_vec)\n",
    "        #p_vec = pca.transform(p_vec)\n",
    "        return p_vec\n",
    "    \n",
    "    def fit_pca(self):\n",
    "        pca_model = PCA(n_components=self.n)\n",
    "        pids = []\n",
    "        pl_vectos_x = []\n",
    "        with open(self.pid_file, 'r') as f:\n",
    "            pids = f.read().split()\n",
    "            pids = [int(pid) for pid in pids]\n",
    "        print('pids len:',len(pids))\n",
    "        \n",
    "        for pid in pids:\n",
    "            p_vec = self.get_playlist_vector(pid = pid)\n",
    "            pl_vectos_x.append(p_vec)\n",
    "        pca_model.fit(pl_vectos_x)\n",
    "        #print(pca_model.transform(pl_vectos_x[:2]))\n",
    "        #with open('pca.pkl','rb') as f:\n",
    "        \n",
    "        pk.dump(pca_model, open(self.pca_file,\"wb\"))\n",
    "        print('model saved')\n",
    "        #pca_reloaded = pk.load(open(self.pca_file, 'rb'))\n",
    "        #print(pca_reloaded.transform(pl_vectos_x[:2]))\n",
    "        return True\n",
    "    "
   ]
  },
  {
   "cell_type": "code",
   "execution_count": 11,
   "id": "1388474d-078f-4722-b67c-8d777c6dab50",
   "metadata": {},
   "outputs": [],
   "source": [
    "c_pca = create_pca(70, TVocab, collection_dir, 'tdm_file.txt', 'pca_model_5_70.txt')"
   ]
  },
  {
   "cell_type": "code",
   "execution_count": 12,
   "id": "fa79fa7d-d8ea-495a-8205-1ee8b9e86b63",
   "metadata": {},
   "outputs": [
    {
     "name": "stdout",
     "output_type": "stream",
     "text": [
      "pids len: 4000\n",
      "model saved\n"
     ]
    },
    {
     "data": {
      "text/plain": [
       "True"
      ]
     },
     "execution_count": 12,
     "metadata": {},
     "output_type": "execute_result"
    }
   ],
   "source": [
    "c_pca.fit_pca()"
   ]
  },
  {
   "cell_type": "code",
   "execution_count": 46,
   "id": "e5414402-842d-47c5-ba37-1583e50b5ed9",
   "metadata": {},
   "outputs": [],
   "source": [
    "# pca_reloaded = pk.load('pca_model.txt')\n",
    "# pca_reloaded.transform()"
   ]
  },
  {
   "cell_type": "code",
   "execution_count": null,
   "id": "95854a80-f3c3-4fa1-95a4-f9b7dfa79d68",
   "metadata": {},
   "outputs": [],
   "source": []
  },
  {
   "cell_type": "code",
   "execution_count": 45,
   "id": "9718e478",
   "metadata": {},
   "outputs": [],
   "source": [
    "# from sklearn.decomposition import PCA\n",
    "# import pickle as pk\n",
    "# pca = PCA(n_components=2)\n",
    "# result = pca.fit_transform(X)    \n",
    "# pk.dump(pca, open(\"pca.pkl\",\"wb\"))\n",
    "\n",
    "\n",
    "# pca_reload = pk.load(open(\"pca.pkl\",'rb'))\n",
    "# result_new = pca_reload .transform(X)\n",
    "# import pickle as pk\n",
    "# pca = PCA(n_components=2)\n",
    "# result = pca.fit_transform(X) # Assume X is having more than 2 dimensions    \n",
    "# pk.dump(pca, open(\"pca.pkl\",\"wb\"))\n",
    "\n",
    "# # later reload the pickle file\n",
    "# pca_reload = pk.load(open(\"pca.pkl\",'rb'))\n",
    "# result_new = pca_reload .transform([X[0]])\n",
    "# print(result_new)"
   ]
  },
  {
   "cell_type": "raw",
   "id": "7debb7cd",
   "metadata": {},
   "source": []
  },
  {
   "cell_type": "code",
   "execution_count": null,
   "id": "ea8c15e8-b5f5-4801-ad15-dcbec725c1a0",
   "metadata": {},
   "outputs": [],
   "source": []
  }
 ],
 "metadata": {
  "kernelspec": {
   "display_name": "Python 3 (ipykernel)",
   "language": "python",
   "name": "python3"
  },
  "language_info": {
   "codemirror_mode": {
    "name": "ipython",
    "version": 3
   },
   "file_extension": ".py",
   "mimetype": "text/x-python",
   "name": "python",
   "nbconvert_exporter": "python",
   "pygments_lexer": "ipython3",
   "version": "3.8.8"
  }
 },
 "nbformat": 4,
 "nbformat_minor": 5
}
