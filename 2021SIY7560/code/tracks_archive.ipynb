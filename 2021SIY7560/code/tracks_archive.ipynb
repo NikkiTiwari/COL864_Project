{
 "cells": [
  {
   "cell_type": "code",
   "execution_count": 1,
   "id": "2a577641-94cf-410f-b8cf-eb6eb9312028",
   "metadata": {},
   "outputs": [],
   "source": [
    "import numpy as np\n",
    "import os\n",
    "import json\n",
    "import pandas as pd\n",
    "import time\n",
    "from tqdm import tqdm\n",
    "import gc\n",
    "import mmap\n",
    "from scipy import spatial\n",
    "import heapq"
   ]
  },
  {
   "cell_type": "code",
   "execution_count": 72,
   "id": "0f562d3d-826a-4661-aa9a-b1a2c9ffc3c4",
   "metadata": {},
   "outputs": [],
   "source": [
    "\n",
    "class TracksArchive:\n",
    "    def __init__(self, coll_dir, archive_path = 'tracks_archive.txt'):\n",
    "        self.coll_dir = coll_dir\n",
    "        self.archive_path = archive_path\n",
    "        self.top_tracks = []\n",
    "        self.top_artists = []\n",
    "        self.top_playlists = []\n",
    "    \n",
    "    def make_top_list(self):\n",
    "        with open('../stats.txt','r') as f:\n",
    "            top_cat = None\n",
    "            lines = f.readlines()\n",
    "            for line in lines:\n",
    "                if line == '\\n':\n",
    "                    top_cat = None\n",
    "                \n",
    "                if top_cat == 'P':\n",
    "                    playlist = line.strip().split()[1:]\n",
    "                    playlist = ' '.join(playlist)\n",
    "                    #print('p',playlist)\n",
    "                    self.top_playlists.append(playlist)\n",
    "                elif top_cat == 'T':\n",
    "                    track = line.strip().split()[1:]\n",
    "                    track = ' '.join(track)\n",
    "                    #print('t',track)\n",
    "                    self.top_tracks.append(track)\n",
    "                elif top_cat == 'A':\n",
    "                    artist = line.strip().split()[1:]\n",
    "                    artist = ' '.join(artist)\n",
    "                    #print('a',artist)\n",
    "                    self.top_artists.append(artist)\n",
    "                    \n",
    "                if line == 'top playlist titles\\n':\n",
    "                    top_cat = 'P'\n",
    "                elif line == 'top tracks\\n':\n",
    "                    top_cat = 'T'\n",
    "                elif line == 'top artists\\n':\n",
    "                    top_cat = 'A'\n",
    "                    \n",
    "        print('fetched details')\n",
    "        return True\n",
    "            \n",
    "\n",
    "    def save_top_tracks(self, limit_track_save = 500):\n",
    "        #limit_track_save = 50  #Later 500\n",
    "        imp_track_count = 0\n",
    "        limit_file_read_to = 1\n",
    "        self.make_top_list()\n",
    "        print('Creating songs archive')\n",
    "        file_count = 0\n",
    "        coll_dir = self.coll_dir\n",
    "        \n",
    "        #Empty the file\n",
    "        f = open(self.archive_path, '+w')\n",
    "        f.close()\n",
    "        \n",
    "        tracks_set = set()\n",
    "        \n",
    "        for filename in os.listdir(coll_dir)[:limit_file_read_to]:\n",
    "            file_count += 1\n",
    "            #print('For File:', filename)\n",
    "            with open(os.path.join(coll_dir, filename), 'r') as f:\n",
    "                mm = mmap.mmap(f.fileno(),length = 0, access = mmap.ACCESS_READ)\n",
    "                playlists = json.load(mm)['playlists']\n",
    "                # print('total playlists:', len(playlists))\n",
    "                for playlist in playlists[:]:\n",
    "                    imp_pl = False\n",
    "                    if playlist['name'] in self.top_playlists:\n",
    "                        print('its a top pl', playlist['name'])\n",
    "                        imp_pl = True\n",
    "                    tracks = playlist['tracks']\n",
    "                    # print('\\tTotal Tracks:', len(tracks))\n",
    "                    for track in tracks:\n",
    "                        imp_track = False\n",
    "                        if track['track_name'] in self.top_tracks or track['artist_name'] in self.top_artists or imp_pl:\n",
    "                            imp_track = True\n",
    "                            #print('imp track found')\n",
    "                            #print(track['track_uri'], track['track_name'], track['artist_name'])\n",
    "                            if track['track_uri'] not in tracks_set:\n",
    "                                imp_track_count +=1\n",
    "                                tracks_set = tracks_set | set([track['track_uri']])\n",
    "                                content = track['track_uri'] + '\\n'\n",
    "                                with open(self.archive_path, '+a') as file:\n",
    "                                    file.write(content)\n",
    "                        if imp_track_count>=limit_track_save:\n",
    "                            break\n",
    "                    if imp_track_count>=limit_track_save:\n",
    "                        break\n",
    "                mm.close()\n",
    "            if imp_track_count>=limit_track_save:\n",
    "                break\n",
    "        print('tracks stored:',imp_track_count)\n",
    "        return tracks_set\n",
    "\n",
    "\n",
    "collection_dir = '/media/harsh/Common/IITD/COL764-IR/Project/spotify_million_playlist_dataset/data/'"
   ]
  },
  {
   "cell_type": "code",
   "execution_count": 73,
   "id": "dd40b7ad-1f61-4250-9f09-d162f068c8cb",
   "metadata": {},
   "outputs": [],
   "source": [
    "archive = TracksArchive(collection_dir)"
   ]
  },
  {
   "cell_type": "code",
   "execution_count": 76,
   "id": "84d36599-d1e1-4171-a58d-f6294a64afe8",
   "metadata": {},
   "outputs": [
    {
     "name": "stdout",
     "output_type": "stream",
     "text": [
      "fetched details\n",
      "Creating songs archive\n",
      "its a top pl disney\n",
      "its a top pl sleep\n",
      "its a top pl rap\n",
      "its a top pl vibes\n",
      "tracks stored: 500\n"
     ]
    }
   ],
   "source": [
    "_ = archive.save_top_tracks(500)"
   ]
  },
  {
   "cell_type": "code",
   "execution_count": 18,
   "id": "33e08991-ee81-4109-b28a-edaecbdce505",
   "metadata": {
    "collapsed": true,
    "jupyter": {
     "outputs_hidden": true
    },
    "tags": []
   },
   "outputs": [
    {
     "data": {
      "text/plain": [
       "['HUMBLE. by Kendrick Lamar',\n",
       " 'One Dance by Drake',\n",
       " 'Broccoli (feat. Lil Yachty) by DRAM',\n",
       " 'Closer by The Chainsmokers',\n",
       " 'Congratulations by Post Malone',\n",
       " 'Caroline by Aminé',\n",
       " 'iSpy (feat. Lil Yachty) by KYLE',\n",
       " 'Bad and Boujee (feat. Lil Uzi Vert) by Migos',\n",
       " 'Location by Khalid',\n",
       " 'XO TOUR Llif3 by Lil Uzi Vert',\n",
       " 'Bounce Back by Big Sean',\n",
       " 'Ignition - Remix by R. Kelly',\n",
       " 'No Role Modelz by J. Cole',\n",
       " 'Mask Off by Future',\n",
       " 'No Problem (feat. Lil Wayne & 2 Chainz) by Chance The Rapper',\n",
       " \"I'm the One by DJ Khaled\",\n",
       " 'Jumpman by Drake',\n",
       " 'goosebumps by Travis Scott',\n",
       " 'Fake Love by Drake',\n",
       " 'Despacito - Remix by Luis Fonsi']"
      ]
     },
     "execution_count": 18,
     "metadata": {},
     "output_type": "execute_result"
    }
   ],
   "source": []
  },
  {
   "cell_type": "code",
   "execution_count": null,
   "id": "f1f155f9-d945-4ff5-a4ac-c9d330e270d9",
   "metadata": {},
   "outputs": [],
   "source": []
  }
 ],
 "metadata": {
  "kernelspec": {
   "display_name": "Python 3 (ipykernel)",
   "language": "python",
   "name": "python3"
  },
  "language_info": {
   "codemirror_mode": {
    "name": "ipython",
    "version": 3
   },
   "file_extension": ".py",
   "mimetype": "text/x-python",
   "name": "python",
   "nbconvert_exporter": "python",
   "pygments_lexer": "ipython3",
   "version": "3.8.8"
  }
 },
 "nbformat": 4,
 "nbformat_minor": 5
}
